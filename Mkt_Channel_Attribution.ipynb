{
  "nbformat": 4,
  "nbformat_minor": 0,
  "metadata": {
    "colab": {
      "name": "Mkt Channel Attribution.ipynb",
      "provenance": [],
      "authorship_tag": "ABX9TyP2tFGQxUPCk4D4NPYoaW9t",
      "include_colab_link": true
    },
    "kernelspec": {
      "name": "python3",
      "display_name": "Python 3"
    },
    "language_info": {
      "name": "python"
    }
  },
  "cells": [
    {
      "cell_type": "markdown",
      "metadata": {
        "id": "view-in-github",
        "colab_type": "text"
      },
      "source": [
        "<a href=\"https://colab.research.google.com/github/SusanYTSu/mkt_channel_attribution/blob/main/Mkt_Channel_Attribution.ipynb\" target=\"_parent\"><img src=\"https://colab.research.google.com/assets/colab-badge.svg\" alt=\"Open In Colab\"/></a>"
      ]
    },
    {
      "cell_type": "code",
      "execution_count": null,
      "metadata": {
        "id": "Mt0wzvoPsDQX"
      },
      "outputs": [],
      "source": [
        "import pandas as pd \n",
        "import numpy as np\n",
        "from google.colab import drive"
      ]
    },
    {
      "cell_type": "code",
      "source": [
        "drive.mount(\"/content/drive\")"
      ],
      "metadata": {
        "colab": {
          "base_uri": "https://localhost:8080/"
        },
        "id": "qiZ5fgOysmL5",
        "outputId": "10c7200e-41f4-4c89-910d-d9b3473cf16f"
      },
      "execution_count": null,
      "outputs": [
        {
          "output_type": "stream",
          "name": "stdout",
          "text": [
            "Mounted at /content/drive\n"
          ]
        }
      ]
    },
    {
      "cell_type": "code",
      "source": [
        "df = pd.read_excel(\"/content/drive/MyDrive/Colab Notebooks/Attribution/Attribution.xlsx\")"
      ],
      "metadata": {
        "id": "sf_Y49N8tAYr"
      },
      "execution_count": null,
      "outputs": []
    },
    {
      "cell_type": "code",
      "source": [
        "df.info()"
      ],
      "metadata": {
        "colab": {
          "base_uri": "https://localhost:8080/"
        },
        "id": "_tdgEyqTwsIk",
        "outputId": "854f3065-20ca-411d-c6ee-f170e17e7677"
      },
      "execution_count": null,
      "outputs": [
        {
          "output_type": "stream",
          "name": "stdout",
          "text": [
            "<class 'pandas.core.frame.DataFrame'>\n",
            "RangeIndex: 5000 entries, 0 to 4999\n",
            "Data columns (total 8 columns):\n",
            " #   Column              Non-Null Count  Dtype  \n",
            "---  ------              --------------  -----  \n",
            " 0   conversion          5000 non-null   int64  \n",
            " 1   revenue             5000 non-null   float64\n",
            " 2   rebate              5000 non-null   int64  \n",
            " 3   channel             5000 non-null   int64  \n",
            " 4   purchase_frequency  5000 non-null   int64  \n",
            " 5   purchase_monetary   5000 non-null   float64\n",
            " 6   weeks_since_visit   5000 non-null   int64  \n",
            " 7   browsing_minutes    5000 non-null   int64  \n",
            "dtypes: float64(2), int64(6)\n",
            "memory usage: 312.6 KB\n"
          ]
        }
      ]
    },
    {
      "cell_type": "code",
      "source": [
        "df.head()"
      ],
      "metadata": {
        "colab": {
          "base_uri": "https://localhost:8080/",
          "height": 206
        },
        "id": "_nTuStjX3vOf",
        "outputId": "dc4c4491-b4c8-4c24-f346-75db30984bf4"
      },
      "execution_count": null,
      "outputs": [
        {
          "output_type": "execute_result",
          "data": {
            "text/html": [
              "\n",
              "  <div id=\"df-25bbbfb5-2ef9-47d8-91c9-2b2c1b868d7c\">\n",
              "    <div class=\"colab-df-container\">\n",
              "      <div>\n",
              "<style scoped>\n",
              "    .dataframe tbody tr th:only-of-type {\n",
              "        vertical-align: middle;\n",
              "    }\n",
              "\n",
              "    .dataframe tbody tr th {\n",
              "        vertical-align: top;\n",
              "    }\n",
              "\n",
              "    .dataframe thead th {\n",
              "        text-align: right;\n",
              "    }\n",
              "</style>\n",
              "<table border=\"1\" class=\"dataframe\">\n",
              "  <thead>\n",
              "    <tr style=\"text-align: right;\">\n",
              "      <th></th>\n",
              "      <th>conversion</th>\n",
              "      <th>revenue</th>\n",
              "      <th>rebate</th>\n",
              "      <th>channel</th>\n",
              "      <th>purchase_frequency</th>\n",
              "      <th>purchase_monetary</th>\n",
              "      <th>weeks_since_visit</th>\n",
              "      <th>browsing_minutes</th>\n",
              "    </tr>\n",
              "  </thead>\n",
              "  <tbody>\n",
              "    <tr>\n",
              "      <th>0</th>\n",
              "      <td>0</td>\n",
              "      <td>0.0</td>\n",
              "      <td>0</td>\n",
              "      <td>2</td>\n",
              "      <td>6</td>\n",
              "      <td>62.99</td>\n",
              "      <td>6</td>\n",
              "      <td>1</td>\n",
              "    </tr>\n",
              "    <tr>\n",
              "      <th>1</th>\n",
              "      <td>0</td>\n",
              "      <td>0.0</td>\n",
              "      <td>1</td>\n",
              "      <td>1</td>\n",
              "      <td>2</td>\n",
              "      <td>53.99</td>\n",
              "      <td>0</td>\n",
              "      <td>7</td>\n",
              "    </tr>\n",
              "    <tr>\n",
              "      <th>2</th>\n",
              "      <td>0</td>\n",
              "      <td>0.0</td>\n",
              "      <td>1</td>\n",
              "      <td>2</td>\n",
              "      <td>3</td>\n",
              "      <td>88.98</td>\n",
              "      <td>3</td>\n",
              "      <td>4</td>\n",
              "    </tr>\n",
              "    <tr>\n",
              "      <th>3</th>\n",
              "      <td>0</td>\n",
              "      <td>0.0</td>\n",
              "      <td>0</td>\n",
              "      <td>2</td>\n",
              "      <td>1</td>\n",
              "      <td>68.99</td>\n",
              "      <td>1</td>\n",
              "      <td>19</td>\n",
              "    </tr>\n",
              "    <tr>\n",
              "      <th>4</th>\n",
              "      <td>0</td>\n",
              "      <td>0.0</td>\n",
              "      <td>1</td>\n",
              "      <td>3</td>\n",
              "      <td>3</td>\n",
              "      <td>66.49</td>\n",
              "      <td>4</td>\n",
              "      <td>20</td>\n",
              "    </tr>\n",
              "  </tbody>\n",
              "</table>\n",
              "</div>\n",
              "      <button class=\"colab-df-convert\" onclick=\"convertToInteractive('df-25bbbfb5-2ef9-47d8-91c9-2b2c1b868d7c')\"\n",
              "              title=\"Convert this dataframe to an interactive table.\"\n",
              "              style=\"display:none;\">\n",
              "        \n",
              "  <svg xmlns=\"http://www.w3.org/2000/svg\" height=\"24px\"viewBox=\"0 0 24 24\"\n",
              "       width=\"24px\">\n",
              "    <path d=\"M0 0h24v24H0V0z\" fill=\"none\"/>\n",
              "    <path d=\"M18.56 5.44l.94 2.06.94-2.06 2.06-.94-2.06-.94-.94-2.06-.94 2.06-2.06.94zm-11 1L8.5 8.5l.94-2.06 2.06-.94-2.06-.94L8.5 2.5l-.94 2.06-2.06.94zm10 10l.94 2.06.94-2.06 2.06-.94-2.06-.94-.94-2.06-.94 2.06-2.06.94z\"/><path d=\"M17.41 7.96l-1.37-1.37c-.4-.4-.92-.59-1.43-.59-.52 0-1.04.2-1.43.59L10.3 9.45l-7.72 7.72c-.78.78-.78 2.05 0 2.83L4 21.41c.39.39.9.59 1.41.59.51 0 1.02-.2 1.41-.59l7.78-7.78 2.81-2.81c.8-.78.8-2.07 0-2.86zM5.41 20L4 18.59l7.72-7.72 1.47 1.35L5.41 20z\"/>\n",
              "  </svg>\n",
              "      </button>\n",
              "      \n",
              "  <style>\n",
              "    .colab-df-container {\n",
              "      display:flex;\n",
              "      flex-wrap:wrap;\n",
              "      gap: 12px;\n",
              "    }\n",
              "\n",
              "    .colab-df-convert {\n",
              "      background-color: #E8F0FE;\n",
              "      border: none;\n",
              "      border-radius: 50%;\n",
              "      cursor: pointer;\n",
              "      display: none;\n",
              "      fill: #1967D2;\n",
              "      height: 32px;\n",
              "      padding: 0 0 0 0;\n",
              "      width: 32px;\n",
              "    }\n",
              "\n",
              "    .colab-df-convert:hover {\n",
              "      background-color: #E2EBFA;\n",
              "      box-shadow: 0px 1px 2px rgba(60, 64, 67, 0.3), 0px 1px 3px 1px rgba(60, 64, 67, 0.15);\n",
              "      fill: #174EA6;\n",
              "    }\n",
              "\n",
              "    [theme=dark] .colab-df-convert {\n",
              "      background-color: #3B4455;\n",
              "      fill: #D2E3FC;\n",
              "    }\n",
              "\n",
              "    [theme=dark] .colab-df-convert:hover {\n",
              "      background-color: #434B5C;\n",
              "      box-shadow: 0px 1px 3px 1px rgba(0, 0, 0, 0.15);\n",
              "      filter: drop-shadow(0px 1px 2px rgba(0, 0, 0, 0.3));\n",
              "      fill: #FFFFFF;\n",
              "    }\n",
              "  </style>\n",
              "\n",
              "      <script>\n",
              "        const buttonEl =\n",
              "          document.querySelector('#df-25bbbfb5-2ef9-47d8-91c9-2b2c1b868d7c button.colab-df-convert');\n",
              "        buttonEl.style.display =\n",
              "          google.colab.kernel.accessAllowed ? 'block' : 'none';\n",
              "\n",
              "        async function convertToInteractive(key) {\n",
              "          const element = document.querySelector('#df-25bbbfb5-2ef9-47d8-91c9-2b2c1b868d7c');\n",
              "          const dataTable =\n",
              "            await google.colab.kernel.invokeFunction('convertToInteractive',\n",
              "                                                     [key], {});\n",
              "          if (!dataTable) return;\n",
              "\n",
              "          const docLinkHtml = 'Like what you see? Visit the ' +\n",
              "            '<a target=\"_blank\" href=https://colab.research.google.com/notebooks/data_table.ipynb>data table notebook</a>'\n",
              "            + ' to learn more about interactive tables.';\n",
              "          element.innerHTML = '';\n",
              "          dataTable['output_type'] = 'display_data';\n",
              "          await google.colab.output.renderOutput(dataTable, element);\n",
              "          const docLink = document.createElement('div');\n",
              "          docLink.innerHTML = docLinkHtml;\n",
              "          element.appendChild(docLink);\n",
              "        }\n",
              "      </script>\n",
              "    </div>\n",
              "  </div>\n",
              "  "
            ],
            "text/plain": [
              "   conversion  revenue  ...  weeks_since_visit  browsing_minutes\n",
              "0           0      0.0  ...                  6                 1\n",
              "1           0      0.0  ...                  0                 7\n",
              "2           0      0.0  ...                  3                 4\n",
              "3           0      0.0  ...                  1                19\n",
              "4           0      0.0  ...                  4                20\n",
              "\n",
              "[5 rows x 8 columns]"
            ]
          },
          "metadata": {},
          "execution_count": 24
        }
      ]
    },
    {
      "cell_type": "code",
      "source": [
        "df.hist(figsize= (20,15))"
      ],
      "metadata": {
        "colab": {
          "base_uri": "https://localhost:8080/",
          "height": 1000
        },
        "id": "EAPc_HutU_Ok",
        "outputId": "04965a6b-7374-4755-e9e4-45e746c1e0c4"
      },
      "execution_count": null,
      "outputs": [
        {
          "output_type": "execute_result",
          "data": {
            "text/plain": [
              "array([[<matplotlib.axes._subplots.AxesSubplot object at 0x7ff633cae790>,\n",
              "        <matplotlib.axes._subplots.AxesSubplot object at 0x7ff633829b90>,\n",
              "        <matplotlib.axes._subplots.AxesSubplot object at 0x7ff6337f2490>,\n",
              "        <matplotlib.axes._subplots.AxesSubplot object at 0x7ff6337a3990>],\n",
              "       [<matplotlib.axes._subplots.AxesSubplot object at 0x7ff633758e90>,\n",
              "        <matplotlib.axes._subplots.AxesSubplot object at 0x7ff63371b3d0>,\n",
              "        <matplotlib.axes._subplots.AxesSubplot object at 0x7ff6336d1950>,\n",
              "        <matplotlib.axes._subplots.AxesSubplot object at 0x7ff633686d90>],\n",
              "       [<matplotlib.axes._subplots.AxesSubplot object at 0x7ff633686dd0>,\n",
              "        <matplotlib.axes._subplots.AxesSubplot object at 0x7ff63364a410>,\n",
              "        <matplotlib.axes._subplots.AxesSubplot object at 0x7ff633634d10>,\n",
              "        <matplotlib.axes._subplots.AxesSubplot object at 0x7ff6335f6250>],\n",
              "       [<matplotlib.axes._subplots.AxesSubplot object at 0x7ff6335ae750>,\n",
              "        <matplotlib.axes._subplots.AxesSubplot object at 0x7ff633562c50>,\n",
              "        <matplotlib.axes._subplots.AxesSubplot object at 0x7ff633525190>,\n",
              "        <matplotlib.axes._subplots.AxesSubplot object at 0x7ff6334dc690>]],\n",
              "      dtype=object)"
            ]
          },
          "metadata": {},
          "execution_count": 12
        },
        {
          "output_type": "display_data",
          "data": {
            "image/png": "[encoded data removed]",
            "text/plain": [
              "<Figure size 1440x1080 with 16 Axes>"
            ]
          },
          "metadata": {
            "needs_background": "light"
          }
        }
      ]
    },
    {
      "cell_type": "code",
      "source": [
        "df = pd.get_dummies(df, prefix= \"channel\", columns = [\"channel\"], drop_first=True)"
      ],
      "metadata": {
        "id": "8qRrNxdK8gZl"
      },
      "execution_count": null,
      "outputs": []
    },
    {
      "cell_type": "code",
      "source": [
        "df.info()"
      ],
      "metadata": {
        "colab": {
          "base_uri": "https://localhost:8080/"
        },
        "id": "FJHp2-YQ7_Hr",
        "outputId": "87863bf7-3c72-4d2f-d9a7-379a87559897"
      },
      "execution_count": null,
      "outputs": [
        {
          "output_type": "stream",
          "name": "stdout",
          "text": [
            "<class 'pandas.core.frame.DataFrame'>\n",
            "RangeIndex: 5000 entries, 0 to 4999\n",
            "Data columns (total 11 columns):\n",
            " #   Column              Non-Null Count  Dtype  \n",
            "---  ------              --------------  -----  \n",
            " 0   conversion          5000 non-null   int64  \n",
            " 1   revenue             5000 non-null   float64\n",
            " 2   rebate              5000 non-null   int64  \n",
            " 3   purchase_frequency  5000 non-null   int64  \n",
            " 4   purchase_monetary   5000 non-null   float64\n",
            " 5   weeks_since_visit   5000 non-null   int64  \n",
            " 6   browsing_minutes    5000 non-null   int64  \n",
            " 7   channel_2           5000 non-null   uint8  \n",
            " 8   channel_3           5000 non-null   uint8  \n",
            " 9   channel_4           5000 non-null   uint8  \n",
            " 10  channel_5           5000 non-null   uint8  \n",
            "dtypes: float64(2), int64(5), uint8(4)\n",
            "memory usage: 293.1 KB\n"
          ]
        }
      ]
    },
    {
      "cell_type": "markdown",
      "source": [
        "### 2-way interaction"
      ],
      "metadata": {
        "id": "B4I85UXKhwrd"
      }
    },
    {
      "cell_type": "code",
      "source": [
        "df[\"channel_2_rebate\"] = df[\"channel_2\"]*df[\"rebate\"]\n",
        "df[\"channel_3_rebate\"] = df[\"channel_3\"]*df[\"rebate\"]\n",
        "df[\"channel_4_rebate\"] = df[\"channel_4\"]*df[\"rebate\"]\n",
        "df[\"channel_5_rebate\"] = df[\"channel_5\"]*df[\"rebate\"]"
      ],
      "metadata": {
        "id": "yKa8NTkt-9GY"
      },
      "execution_count": null,
      "outputs": []
    },
    {
      "cell_type": "code",
      "source": [
        "X = df.drop([\"conversion\",\"channel_2\",\"channel_3\",\"channel_4\",\"channel_5\",\"rebate\",\"revenue\"], axis = 1 )"
      ],
      "metadata": {
        "id": "orsWAhI36XBy"
      },
      "execution_count": null,
      "outputs": []
    },
    {
      "cell_type": "code",
      "source": [
        "y = df.revenue "
      ],
      "metadata": {
        "id": "Ke6UR0U27aIA"
      },
      "execution_count": null,
      "outputs": []
    },
    {
      "cell_type": "code",
      "source": [
        "from sklearn.linear_model import LinearRegression\n",
        "import statsmodels.api as sm\n",
        "from scipy import stats"
      ],
      "metadata": {
        "id": "U57fjftgBugc"
      },
      "execution_count": null,
      "outputs": []
    },
    {
      "cell_type": "code",
      "source": [
        "X2 = sm.add_constant(X)\n",
        "est = sm.OLS(y, X2)\n",
        "est2 = est.fit()\n",
        "print(est2.summary())"
      ],
      "metadata": {
        "colab": {
          "base_uri": "https://localhost:8080/"
        },
        "id": "e9DD1i65Dpxw",
        "outputId": "a3251d04-112a-4be6-96eb-d5e13cd0e154"
      },
      "execution_count": null,
      "outputs": [
        {
          "output_type": "stream",
          "name": "stdout",
          "text": [
            "                            OLS Regression Results                            \n",
            "==============================================================================\n",
            "Dep. Variable:                revenue   R-squared:                       0.130\n",
            "Model:                            OLS   Adj. R-squared:                  0.128\n",
            "Method:                 Least Squares   F-statistic:                     92.84\n",
            "Date:                Thu, 17 Feb 2022   Prob (F-statistic):          2.50e-144\n",
            "Time:                        02:15:15   Log-Likelihood:                -22559.\n",
            "No. Observations:                5000   AIC:                         4.514e+04\n",
            "Df Residuals:                    4991   BIC:                         4.520e+04\n",
            "Df Model:                           8                                         \n",
            "Covariance Type:            nonrobust                                         \n",
            "======================================================================================\n",
            "                         coef    std err          t      P>|t|      [0.025      0.975]\n",
            "--------------------------------------------------------------------------------------\n",
            "const                  3.3673      0.918      3.670      0.000       1.568       5.166\n",
            "purchase_frequency     3.1676      0.134     23.580      0.000       2.904       3.431\n",
            "purchase_monetary     -0.0144      0.006     -2.321      0.020      -0.027      -0.002\n",
            "weeks_since_visit     -1.1322      0.138     -8.191      0.000      -1.403      -0.861\n",
            "browsing_minutes       0.0790      0.045      1.752      0.080      -0.009       0.167\n",
            "channel_2_rebate       3.7962      1.018      3.728      0.000       1.800       5.793\n",
            "channel_3_rebate       3.8364      0.883      4.345      0.000       2.105       5.567\n",
            "channel_4_rebate       4.4010      2.010      2.190      0.029       0.461       8.340\n",
            "channel_5_rebate       5.1420      2.922      1.760      0.078      -0.586      10.870\n",
            "==============================================================================\n",
            "Omnibus:                     3477.054   Durbin-Watson:                   1.950\n",
            "Prob(Omnibus):                  0.000   Jarque-Bera (JB):            54583.735\n",
            "Skew:                           3.188   Prob(JB):                         0.00\n",
            "Kurtosis:                      17.877   Cond. No.                         755.\n",
            "==============================================================================\n",
            "\n",
            "Warnings:\n",
            "[1] Standard Errors assume that the covariance matrix of the errors is correctly specified.\n"
          ]
        },
        {
          "output_type": "stream",
          "name": "stderr",
          "text": [
            "/usr/local/lib/python3.7/dist-packages/statsmodels/tsa/tsatools.py:117: FutureWarning: In a future version of pandas all arguments of concat except for the argument 'objs' will be keyword-only\n",
            "  x = pd.concat(x[::order], 1)\n"
          ]
        }
      ]
    },
    {
      "cell_type": "markdown",
      "source": [
        "### No interaction"
      ],
      "metadata": {
        "id": "EcafKlkqiFbj"
      }
    },
    {
      "cell_type": "code",
      "source": [
        "X3 = df.drop([\"conversion\",\"channel_2_rebate\",\"channel_3_rebate\",\"channel_4_rebate\",\"channel_5_rebate\",\"revenue\"],axis=1)"
      ],
      "metadata": {
        "id": "zKYFn4v1XDIm"
      },
      "execution_count": null,
      "outputs": []
    },
    {
      "cell_type": "code",
      "source": [
        "X4 = sm.add_constant(X3)\n",
        "est3 = sm.OLS(y, X4)\n",
        "est4 = est3.fit()\n",
        "print(est4.summary())"
      ],
      "metadata": {
        "colab": {
          "base_uri": "https://localhost:8080/"
        },
        "id": "DDygXFWXXj7b",
        "outputId": "36f35665-be3f-4119-c26c-30ad1b724842"
      },
      "execution_count": null,
      "outputs": [
        {
          "output_type": "stream",
          "name": "stdout",
          "text": [
            "                            OLS Regression Results                            \n",
            "==============================================================================\n",
            "Dep. Variable:                revenue   R-squared:                       0.140\n",
            "Model:                            OLS   Adj. R-squared:                  0.138\n",
            "Method:                 Least Squares   F-statistic:                     90.16\n",
            "Date:                Thu, 17 Feb 2022   Prob (F-statistic):          3.72e-156\n",
            "Time:                        02:35:25   Log-Likelihood:                -22530.\n",
            "No. Observations:                5000   AIC:                         4.508e+04\n",
            "Df Residuals:                    4990   BIC:                         4.514e+04\n",
            "Df Model:                           9                                         \n",
            "Covariance Type:            nonrobust                                         \n",
            "======================================================================================\n",
            "                         coef    std err          t      P>|t|      [0.025      0.975]\n",
            "--------------------------------------------------------------------------------------\n",
            "const                  1.2055      1.006      1.199      0.231      -0.766       3.177\n",
            "rebate                -0.4202      0.621     -0.677      0.498      -1.637       0.797\n",
            "purchase_frequency     3.1585      0.134     23.647      0.000       2.897       3.420\n",
            "purchase_monetary     -0.0135      0.006     -2.189      0.029      -0.026      -0.001\n",
            "weeks_since_visit     -1.1106      0.137     -8.082      0.000      -1.380      -0.841\n",
            "browsing_minutes       0.0699      0.045      1.554      0.120      -0.018       0.158\n",
            "channel_2              6.0795      0.832      7.309      0.000       4.449       7.710\n",
            "channel_3              5.6467      0.743      7.597      0.000       4.190       7.104\n",
            "channel_4              6.6643      1.505      4.429      0.000       3.714       9.614\n",
            "channel_5              8.9813      2.094      4.289      0.000       4.876      13.086\n",
            "==============================================================================\n",
            "Omnibus:                     3426.451   Durbin-Watson:                   1.953\n",
            "Prob(Omnibus):                  0.000   Jarque-Bera (JB):            52636.677\n",
            "Skew:                           3.130   Prob(JB):                         0.00\n",
            "Kurtosis:                      17.611   Cond. No.                         549.\n",
            "==============================================================================\n",
            "\n",
            "Warnings:\n",
            "[1] Standard Errors assume that the covariance matrix of the errors is correctly specified.\n"
          ]
        },
        {
          "output_type": "stream",
          "name": "stderr",
          "text": [
            "/usr/local/lib/python3.7/dist-packages/statsmodels/tsa/tsatools.py:117: FutureWarning: In a future version of pandas all arguments of concat except for the argument 'objs' will be keyword-only\n",
            "  x = pd.concat(x[::order], 1)\n"
          ]
        }
      ]
    }
  ]
}